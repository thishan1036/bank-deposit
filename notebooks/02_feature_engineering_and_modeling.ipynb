{
 "cells": [
  {
   "cell_type": "markdown",
   "id": "5d1baa9f",
   "metadata": {},
   "source": [
    "## **Boosting Marketing Efficiency: Targeted Bank Campaign by Customer Subscription Behavior**\n",
    "\n",
    "**Overall Project Objective:** \n",
    "\n",
    "Develop a data-driven marketing strategy that maximizes return on investment (ROI) by identifying optimal trade-off between broad customer outreach and precision marketing using predictive modeling."
   ]
  },
  {
   "cell_type": "markdown",
   "id": "6964941a",
   "metadata": {},
   "source": [
    "**Notebook 2 of 3: Feature Engineering & Predictive Modeling**\n",
    "\n",
    "This notebook covers the core technical steps of the predictive modeling pipeline. \n",
    "\n",
    "The primary goals are to:\n",
    "- Prepare the cleaned data for machine learning through feature engineering.\n",
    "- Build and evaluate several classification models.\n",
    "- Identify the best-performing model for predicting term deposit subscriptions.\n",
    "- Analyze the precision-recall trade-off to inform the final strategy."
   ]
  },
  {
   "cell_type": "markdown",
   "id": "6e22222c",
   "metadata": {},
   "source": [
    "### **Data Load**\n",
    "\n",
    "Simple data and libraries load"
   ]
  },
  {
   "cell_type": "code",
   "execution_count": 28,
   "id": "9f1230ce",
   "metadata": {},
   "outputs": [],
   "source": [
    "import pandas as pd\n",
    "import numpy as np\n",
    "import matplotlib.pyplot as plt\n",
    "import seaborn as sns\n",
    "\n",
    "from sklearn.model_selection import train_test_split\n",
    "from sklearn.linear_model import LogisticRegression\n",
    "from sklearn.ensemble import RandomForestClassifier\n",
    "from xgboost import XGBClassifier\n",
    "\n",
    "from imblearn.over_sampling import SMOTE\n",
    "\n",
    "from sklearn.metrics import accuracy_score, precision_score, recall_score, roc_auc_score, roc_curve\n"
   ]
  },
  {
   "cell_type": "code",
   "execution_count": 29,
   "id": "f0256b94",
   "metadata": {},
   "outputs": [],
   "source": [
    "file_path = '../data/bank_cleaned.csv'\n",
    "df = pd.read_csv(file_path)"
   ]
  },
  {
   "cell_type": "markdown",
   "id": "51e9e946",
   "metadata": {},
   "source": [
    "**-Data Overview-**\n",
    "\n",
    "The specific file used is 'bank_cleaned.csv,' which is the cleaned and imputed output from notebook 1. \n",
    "\n",
    "Data at a glance:\n",
    "- Dataset: bank_cleaned.csv\n",
    "- Observations: 4,521\n",
    "- Variables: 17 (pre-feature engineering)"
   ]
  },
  {
   "cell_type": "code",
   "execution_count": 37,
   "id": "024c4561",
   "metadata": {},
   "outputs": [
    {
     "data": {
      "text/html": [
       "<div>\n",
       "<style scoped>\n",
       "    .dataframe tbody tr th:only-of-type {\n",
       "        vertical-align: middle;\n",
       "    }\n",
       "\n",
       "    .dataframe tbody tr th {\n",
       "        vertical-align: top;\n",
       "    }\n",
       "\n",
       "    .dataframe thead th {\n",
       "        text-align: right;\n",
       "    }\n",
       "</style>\n",
       "<table border=\"1\" class=\"dataframe\">\n",
       "  <thead>\n",
       "    <tr style=\"text-align: right;\">\n",
       "      <th></th>\n",
       "      <th>age</th>\n",
       "      <th>job</th>\n",
       "      <th>marital</th>\n",
       "      <th>education</th>\n",
       "      <th>default</th>\n",
       "      <th>balance</th>\n",
       "      <th>housing</th>\n",
       "      <th>loan</th>\n",
       "      <th>contact</th>\n",
       "      <th>day</th>\n",
       "      <th>month</th>\n",
       "      <th>duration</th>\n",
       "      <th>campaign</th>\n",
       "      <th>pdays</th>\n",
       "      <th>previous</th>\n",
       "      <th>poutcome</th>\n",
       "      <th>y</th>\n",
       "    </tr>\n",
       "  </thead>\n",
       "  <tbody>\n",
       "    <tr>\n",
       "      <th>0</th>\n",
       "      <td>30</td>\n",
       "      <td>unemployed</td>\n",
       "      <td>married</td>\n",
       "      <td>primary</td>\n",
       "      <td>no</td>\n",
       "      <td>1787</td>\n",
       "      <td>no</td>\n",
       "      <td>no</td>\n",
       "      <td>cellular</td>\n",
       "      <td>19</td>\n",
       "      <td>oct</td>\n",
       "      <td>79</td>\n",
       "      <td>1</td>\n",
       "      <td>-1</td>\n",
       "      <td>0</td>\n",
       "      <td>unknown_outcome</td>\n",
       "      <td>no</td>\n",
       "    </tr>\n",
       "    <tr>\n",
       "      <th>1</th>\n",
       "      <td>33</td>\n",
       "      <td>services</td>\n",
       "      <td>married</td>\n",
       "      <td>secondary</td>\n",
       "      <td>no</td>\n",
       "      <td>4789</td>\n",
       "      <td>yes</td>\n",
       "      <td>yes</td>\n",
       "      <td>cellular</td>\n",
       "      <td>11</td>\n",
       "      <td>may</td>\n",
       "      <td>220</td>\n",
       "      <td>1</td>\n",
       "      <td>339</td>\n",
       "      <td>4</td>\n",
       "      <td>failure</td>\n",
       "      <td>no</td>\n",
       "    </tr>\n",
       "    <tr>\n",
       "      <th>2</th>\n",
       "      <td>35</td>\n",
       "      <td>management</td>\n",
       "      <td>single</td>\n",
       "      <td>tertiary</td>\n",
       "      <td>no</td>\n",
       "      <td>1350</td>\n",
       "      <td>yes</td>\n",
       "      <td>no</td>\n",
       "      <td>cellular</td>\n",
       "      <td>16</td>\n",
       "      <td>apr</td>\n",
       "      <td>185</td>\n",
       "      <td>1</td>\n",
       "      <td>330</td>\n",
       "      <td>1</td>\n",
       "      <td>failure</td>\n",
       "      <td>no</td>\n",
       "    </tr>\n",
       "    <tr>\n",
       "      <th>3</th>\n",
       "      <td>30</td>\n",
       "      <td>management</td>\n",
       "      <td>married</td>\n",
       "      <td>tertiary</td>\n",
       "      <td>no</td>\n",
       "      <td>1476</td>\n",
       "      <td>yes</td>\n",
       "      <td>yes</td>\n",
       "      <td>unspecified</td>\n",
       "      <td>3</td>\n",
       "      <td>jun</td>\n",
       "      <td>199</td>\n",
       "      <td>4</td>\n",
       "      <td>-1</td>\n",
       "      <td>0</td>\n",
       "      <td>unknown_outcome</td>\n",
       "      <td>no</td>\n",
       "    </tr>\n",
       "    <tr>\n",
       "      <th>4</th>\n",
       "      <td>59</td>\n",
       "      <td>blue-collar</td>\n",
       "      <td>married</td>\n",
       "      <td>secondary</td>\n",
       "      <td>no</td>\n",
       "      <td>0</td>\n",
       "      <td>yes</td>\n",
       "      <td>no</td>\n",
       "      <td>unspecified</td>\n",
       "      <td>5</td>\n",
       "      <td>may</td>\n",
       "      <td>226</td>\n",
       "      <td>1</td>\n",
       "      <td>-1</td>\n",
       "      <td>0</td>\n",
       "      <td>unknown_outcome</td>\n",
       "      <td>no</td>\n",
       "    </tr>\n",
       "  </tbody>\n",
       "</table>\n",
       "</div>"
      ],
      "text/plain": [
       "   age          job  marital  education default  balance housing loan  \\\n",
       "0   30   unemployed  married    primary      no     1787      no   no   \n",
       "1   33     services  married  secondary      no     4789     yes  yes   \n",
       "2   35   management   single   tertiary      no     1350     yes   no   \n",
       "3   30   management  married   tertiary      no     1476     yes  yes   \n",
       "4   59  blue-collar  married  secondary      no        0     yes   no   \n",
       "\n",
       "       contact  day month  duration  campaign  pdays  previous  \\\n",
       "0     cellular   19   oct        79         1     -1         0   \n",
       "1     cellular   11   may       220         1    339         4   \n",
       "2     cellular   16   apr       185         1    330         1   \n",
       "3  unspecified    3   jun       199         4     -1         0   \n",
       "4  unspecified    5   may       226         1     -1         0   \n",
       "\n",
       "          poutcome   y  \n",
       "0  unknown_outcome  no  \n",
       "1          failure  no  \n",
       "2          failure  no  \n",
       "3  unknown_outcome  no  \n",
       "4  unknown_outcome  no  "
      ]
     },
     "execution_count": 37,
     "metadata": {},
     "output_type": "execute_result"
    }
   ],
   "source": [
    "df.head()"
   ]
  },
  {
   "cell_type": "code",
   "execution_count": 36,
   "id": "5dc78058",
   "metadata": {},
   "outputs": [
    {
     "name": "stdout",
     "output_type": "stream",
     "text": [
      "--- Cleaned Data ---\n",
      "\n",
      "Dataset shape: (4521, 17)\n",
      "\n",
      "--- Missing Values Check ---\n",
      "\n",
      "age          0\n",
      "job          0\n",
      "marital      0\n",
      "education    0\n",
      "default      0\n",
      "balance      0\n",
      "housing      0\n",
      "loan         0\n",
      "contact      0\n",
      "day          0\n",
      "month        0\n",
      "duration     0\n",
      "campaign     0\n",
      "pdays        0\n",
      "previous     0\n",
      "poutcome     0\n",
      "y            0\n",
      "dtype: int64\n"
     ]
    }
   ],
   "source": [
    "# verify loaded data\n",
    "print(\"--- Cleaned Data ---\\n\")\n",
    "print(f\"Dataset shape: {df.shape}\\n\")\n",
    "print(\"--- Missing Values Check ---\\n\") \n",
    "print(df.isnull().sum())"
   ]
  },
  {
   "cell_type": "markdown",
   "id": "64fa170c",
   "metadata": {},
   "source": [
    "*The dataset contains no missing values with 4,521 observations and 17 variables (16 input variables and 1 output variable)*"
   ]
  },
  {
   "cell_type": "markdown",
   "id": "5b0d8580",
   "metadata": {},
   "source": [
    "### **Feature Engineering**\n",
    "\n",
    "The feature engineering process involves two primary steps:\n",
    "1. Feature removal: several columns will be removed before training the model to improve performance:\n",
    "\n",
    "    - Data leakage features: The features identified as source of data leakage ('duration', 'campaign') will be dropped.\n",
    "    \n",
    "    - Low-impact variable: The 'day' variable will be excluded. As seasonality is already being analyzed by 'month' variable, the specific day is unlikely to provide a meaningful signal and may introduce more noise than a valuable relationship with the outcome.\n",
    "\n",
    "2. Encoding categorical variables: To prepare the categorical variables for our machine learning models, we will use one-hot encoding. This technique converts each feature into a series of binary columns, a numerical format that the models can understand."
   ]
  },
  {
   "cell_type": "code",
   "execution_count": null,
   "id": "7464e3a3",
   "metadata": {},
   "outputs": [],
   "source": []
  },
  {
   "cell_type": "markdown",
   "id": "e0d94371",
   "metadata": {},
   "source": [
    "### **Data Split**"
   ]
  },
  {
   "cell_type": "markdown",
   "id": "4ab4ec6d",
   "metadata": {},
   "source": [
    "### **Class Imbalance Handling**"
   ]
  },
  {
   "cell_type": "markdown",
   "id": "5d4c21be",
   "metadata": {},
   "source": [
    "### **Model Training & Evaluation**"
   ]
  },
  {
   "cell_type": "markdown",
   "id": "ba8c6edf",
   "metadata": {},
   "source": [
    "### **Identify Best Model**"
   ]
  },
  {
   "cell_type": "markdown",
   "id": "e22e4092",
   "metadata": {},
   "source": [
    "### **Conclusion & Key Insights**"
   ]
  },
  {
   "cell_type": "markdown",
   "id": "e4b922ee",
   "metadata": {},
   "source": []
  }
 ],
 "metadata": {
  "kernelspec": {
   "display_name": "bank_env",
   "language": "python",
   "name": "python3"
  },
  "language_info": {
   "codemirror_mode": {
    "name": "ipython",
    "version": 3
   },
   "file_extension": ".py",
   "mimetype": "text/x-python",
   "name": "python",
   "nbconvert_exporter": "python",
   "pygments_lexer": "ipython3",
   "version": "3.10.18"
  }
 },
 "nbformat": 4,
 "nbformat_minor": 5
}
