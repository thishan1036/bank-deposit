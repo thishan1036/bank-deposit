{
 "cells": [
  {
   "cell_type": "markdown",
   "id": "9931be18",
   "metadata": {},
   "source": [
    "## **Boosting Marketing Efficiency: Targeted Bank Campaign by Customer Subscription Behavior**\n",
    "\n",
    "**Overall Project Objective:** \n",
    "\n",
    "Develop a data-driven marketing strategy that maximizes return on investment (ROI) by identifying optimal trade-off between broad customer outreach and precision marketing using predictive modeling."
   ]
  },
  {
   "cell_type": "markdown",
   "id": "6deb1ba1",
   "metadata": {},
   "source": [
    "**Notebook 3 of 3: Feature Importance & Business Impact Analysis\n",
    "\n",
    "This notebook dives deeper into our final model and derive business insight that fulfills our overall project objective."
   ]
  },
  {
   "cell_type": "markdown",
   "id": "68896203",
   "metadata": {},
   "source": [
    "### **Setup & Data Load**\n",
    "\n",
    "Libraries, the final model, and the test data load."
   ]
  },
  {
   "cell_type": "code",
   "execution_count": null,
   "id": "fc84bb4e",
   "metadata": {},
   "outputs": [],
   "source": [
    "import pandas as pd\n",
    "import numpy as np\n",
    "import matplotlib.pyplot as plt\n",
    "import seaborn as sns\n",
    "import joblib\n",
    "\n",
    "from sklearn.metrics import precision_recall_curve, roc_curve\n"
   ]
  },
  {
   "cell_type": "code",
   "execution_count": null,
   "id": "2cf14fd4",
   "metadata": {},
   "outputs": [],
   "source": [
    "# load the trained model (random forest)\n",
    "file_path = '../models/tuned_rf_mod.joblib'\n",
    "tuned_rf_mod = joblib.load(file_path)"
   ]
  },
  {
   "cell_type": "markdown",
   "id": "0199735c",
   "metadata": {},
   "source": [
    "**-Data Overview-**\n",
    "\n",
    "Only the test data files ('X_test_scaled', 'y_test') will be used in this notebook. "
   ]
  },
  {
   "cell_type": "code",
   "execution_count": 3,
   "id": "626bb219",
   "metadata": {},
   "outputs": [
    {
     "name": "stdout",
     "output_type": "stream",
     "text": [
      "Test set shape:  (905, 37)\n"
     ]
    }
   ],
   "source": [
    "# load the test data\n",
    "X_test = pd.read_csv('../data/X_test_scaled.csv')\n",
    "y_test = pd.read_csv('../data/y_test.csv').squeeze()\n",
    "\n",
    "print(\"Test set shape: \", X_test.shape)"
   ]
  },
  {
   "cell_type": "markdown",
   "id": "5bb14b4b",
   "metadata": {},
   "source": [
    "### **Feature Importance Analysis**"
   ]
  },
  {
   "cell_type": "markdown",
   "id": "82138e1d",
   "metadata": {},
   "source": [
    "### **Precision-Recall Trade-Off Analysis**"
   ]
  },
  {
   "cell_type": "markdown",
   "id": "c828f894",
   "metadata": {},
   "source": [
    "### **Conclusion & Recommendation**"
   ]
  },
  {
   "cell_type": "markdown",
   "id": "aaf1ea89",
   "metadata": {},
   "source": []
  }
 ],
 "metadata": {
  "kernelspec": {
   "display_name": "bank_env",
   "language": "python",
   "name": "python3"
  },
  "language_info": {
   "codemirror_mode": {
    "name": "ipython",
    "version": 3
   },
   "file_extension": ".py",
   "mimetype": "text/x-python",
   "name": "python",
   "nbconvert_exporter": "python",
   "pygments_lexer": "ipython3",
   "version": "3.10.18"
  }
 },
 "nbformat": 4,
 "nbformat_minor": 5
}
